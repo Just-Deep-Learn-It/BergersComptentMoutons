{
 "cells": [
  {
   "cell_type": "code",
   "execution_count": 2,
   "metadata": {
    "scrolled": true
   },
   "outputs": [],
   "source": [
    "import time\n",
    "import os\n",
    "\n",
    "import torch\n",
    "import torch.nn as nn\n",
    "import torch.optim as optim\n",
    "import torchvision.models as models\n",
    "import torch.nn.functional as F\n",
    "import torch.optim as optim\n",
    "import numpy as np\n",
    "import torch.nn.init as init\n",
    "from ShanghaiTechClass import ShanghaiTech\n",
    "from PIL import Image\n",
    "import imageio\n",
    "from toolbox import utils, metrics\n",
    "#from toolbox import utils, metrics\n"
   ]
  },
  {
   "cell_type": "code",
   "execution_count": 3,
   "metadata": {},
   "outputs": [],
   "source": [
    "vgg16 = models.vgg16(pretrained=True)"
   ]
  },
  {
   "cell_type": "code",
   "execution_count": 4,
   "metadata": {},
   "outputs": [],
   "source": [
    "def conv_backend(in_channels, out_channels):\n",
    "    return nn.Conv2d(in_channels, out_channels, kernel_size=3, stride=1, padding=2, dilation=2)"
   ]
  },
  {
   "cell_type": "code",
   "execution_count": 5,
   "metadata": {},
   "outputs": [],
   "source": [
    "class CSRNet(nn.Module):\n",
    "    \n",
    "    def __init__(self):\n",
    "        super(CSRNet, self).__init__()\n",
    "        features = list(vgg16.features)[:23]\n",
    "        self.features = nn.ModuleList(features).eval()\n",
    "        self.conv1 = conv_backend(512, 512)\n",
    "        init.normal_(self.conv1.weight,std=0.01)\n",
    "        self.conv2 = conv_backend(512, 512)\n",
    "        init.normal_(self.conv2.weight,std=0.01)\n",
    "        self.conv3 = conv_backend(512, 512)\n",
    "        init.normal_(self.conv3.weight,std=0.01)\n",
    "        self.conv4 = conv_backend(512, 256)\n",
    "        init.normal_(self.conv4.weight,std=0.01)\n",
    "        self.conv5 = conv_backend(256, 128)\n",
    "        init.normal_(self.conv5.weight,std=0.01)\n",
    "        self.conv6 = conv_backend(128, 64)\n",
    "        init.normal_(self.conv6.weight,std=0.01)\n",
    "        self.convfinal = nn.Conv2d(64, 1, kernel_size=1, stride=1, padding=0, dilation=1)\n",
    "        init.normal_(self.convfinal.weight,std=0.01)\n",
    "        \n",
    "    def forward(self,x):\n",
    "        for model in self.features:\n",
    "            x = model(x)\n",
    "        x = F.relu(self.conv1(x))\n",
    "        x = F.relu(self.conv2(x))\n",
    "        x = F.relu(self.conv3(x))\n",
    "        x = F.relu(self.conv4(x))\n",
    "        x = F.relu(self.conv5(x))\n",
    "        x = F.relu(self.conv6(x))\n",
    "        x = F.relu(self.convfinal(x))\n",
    "        x = F.interpolate(x, scale_factor=8, mode='bilinear',align_corners=True)\n",
    "        return x"
   ]
  },
  {
   "cell_type": "code",
   "execution_count": 6,
   "metadata": {},
   "outputs": [],
   "source": [
    "model = CSRNet()\n",
    "use_gpu = torch.cuda.is_available()\n",
    "if use_gpu:\n",
    "    model = model.cuda()"
   ]
  },
  {
   "cell_type": "code",
   "execution_count": 7,
   "metadata": {
    "scrolled": false
   },
   "outputs": [
    {
     "data": {
      "text/plain": [
       "CSRNet(\n",
       "  (features): ModuleList(\n",
       "    (0): Conv2d(3, 64, kernel_size=(3, 3), stride=(1, 1), padding=(1, 1))\n",
       "    (1): ReLU(inplace)\n",
       "    (2): Conv2d(64, 64, kernel_size=(3, 3), stride=(1, 1), padding=(1, 1))\n",
       "    (3): ReLU(inplace)\n",
       "    (4): MaxPool2d(kernel_size=2, stride=2, padding=0, dilation=1, ceil_mode=False)\n",
       "    (5): Conv2d(64, 128, kernel_size=(3, 3), stride=(1, 1), padding=(1, 1))\n",
       "    (6): ReLU(inplace)\n",
       "    (7): Conv2d(128, 128, kernel_size=(3, 3), stride=(1, 1), padding=(1, 1))\n",
       "    (8): ReLU(inplace)\n",
       "    (9): MaxPool2d(kernel_size=2, stride=2, padding=0, dilation=1, ceil_mode=False)\n",
       "    (10): Conv2d(128, 256, kernel_size=(3, 3), stride=(1, 1), padding=(1, 1))\n",
       "    (11): ReLU(inplace)\n",
       "    (12): Conv2d(256, 256, kernel_size=(3, 3), stride=(1, 1), padding=(1, 1))\n",
       "    (13): ReLU(inplace)\n",
       "    (14): Conv2d(256, 256, kernel_size=(3, 3), stride=(1, 1), padding=(1, 1))\n",
       "    (15): ReLU(inplace)\n",
       "    (16): MaxPool2d(kernel_size=2, stride=2, padding=0, dilation=1, ceil_mode=False)\n",
       "    (17): Conv2d(256, 512, kernel_size=(3, 3), stride=(1, 1), padding=(1, 1))\n",
       "    (18): ReLU(inplace)\n",
       "    (19): Conv2d(512, 512, kernel_size=(3, 3), stride=(1, 1), padding=(1, 1))\n",
       "    (20): ReLU(inplace)\n",
       "    (21): Conv2d(512, 512, kernel_size=(3, 3), stride=(1, 1), padding=(1, 1))\n",
       "    (22): ReLU(inplace)\n",
       "  )\n",
       "  (conv1): Conv2d(512, 512, kernel_size=(3, 3), stride=(1, 1), padding=(2, 2), dilation=(2, 2))\n",
       "  (conv2): Conv2d(512, 512, kernel_size=(3, 3), stride=(1, 1), padding=(2, 2), dilation=(2, 2))\n",
       "  (conv3): Conv2d(512, 512, kernel_size=(3, 3), stride=(1, 1), padding=(2, 2), dilation=(2, 2))\n",
       "  (conv4): Conv2d(512, 256, kernel_size=(3, 3), stride=(1, 1), padding=(2, 2), dilation=(2, 2))\n",
       "  (conv5): Conv2d(256, 128, kernel_size=(3, 3), stride=(1, 1), padding=(2, 2), dilation=(2, 2))\n",
       "  (conv6): Conv2d(128, 64, kernel_size=(3, 3), stride=(1, 1), padding=(2, 2), dilation=(2, 2))\n",
       "  (convfinal): Conv2d(64, 1, kernel_size=(1, 1), stride=(1, 1))\n",
       ")"
      ]
     },
     "execution_count": 7,
     "metadata": {},
     "output_type": "execute_result"
    }
   ],
   "source": [
    "model"
   ]
  },
  {
   "cell_type": "code",
   "execution_count": 7,
   "metadata": {},
   "outputs": [
    {
     "name": "stdout",
     "output_type": "stream",
     "text": [
      "34\n"
     ]
    }
   ],
   "source": [
    "params = list(model.parameters())\n",
    "print(len(params))"
   ]
  },
  {
   "cell_type": "code",
   "execution_count": 8,
   "metadata": {},
   "outputs": [
    {
     "data": {
      "text/plain": [
       "16263489"
      ]
     },
     "execution_count": 8,
     "metadata": {},
     "output_type": "execute_result"
    }
   ],
   "source": [
    "nb_params = 0\n",
    "for layer in params:\n",
    "    n = 1\n",
    "    for s in list(layer.size()):\n",
    "        n *= s\n",
    "    nb_params += n\n",
    "nb_params\n",
    "# on a bien les 16.26M"
   ]
  },
  {
   "cell_type": "code",
   "execution_count": 9,
   "metadata": {},
   "outputs": [
    {
     "name": "stdout",
     "output_type": "stream",
     "text": [
      "tensor([[[[0.0121, 0.0130, 0.0140,  ..., 0.0069, 0.0065, 0.0062],\n",
      "          [0.0127, 0.0135, 0.0143,  ..., 0.0068, 0.0065, 0.0062],\n",
      "          [0.0133, 0.0139, 0.0146,  ..., 0.0068, 0.0065, 0.0062],\n",
      "          ...,\n",
      "          [0.0247, 0.0241, 0.0235,  ..., 0.0041, 0.0038, 0.0034],\n",
      "          [0.0247, 0.0241, 0.0235,  ..., 0.0031, 0.0027, 0.0024],\n",
      "          [0.0247, 0.0241, 0.0235,  ..., 0.0020, 0.0016, 0.0013]]],\n",
      "\n",
      "\n",
      "        [[[0.0129, 0.0132, 0.0136,  ..., 0.0060, 0.0059, 0.0058],\n",
      "          [0.0133, 0.0136, 0.0139,  ..., 0.0061, 0.0060, 0.0058],\n",
      "          [0.0138, 0.0140, 0.0143,  ..., 0.0062, 0.0061, 0.0059],\n",
      "          ...,\n",
      "          [0.0240, 0.0241, 0.0243,  ..., 0.0072, 0.0069, 0.0067],\n",
      "          [0.0247, 0.0248, 0.0250,  ..., 0.0066, 0.0063, 0.0060],\n",
      "          [0.0253, 0.0255, 0.0256,  ..., 0.0061, 0.0057, 0.0053]]]],\n",
      "       grad_fn=<UpsampleBilinear2DBackward>)\n"
     ]
    }
   ],
   "source": [
    "input = 100*torch.randn(2, 3, 224, 224)\n",
    "out = model(input)\n",
    "print(out)"
   ]
  },
  {
   "cell_type": "code",
   "execution_count": 10,
   "metadata": {},
   "outputs": [
    {
     "data": {
      "text/plain": [
       "torch.Size([2, 1, 224, 224])"
      ]
     },
     "execution_count": 10,
     "metadata": {},
     "output_type": "execute_result"
    }
   ],
   "source": [
    "out.size()"
   ]
  },
  {
   "cell_type": "code",
   "execution_count": 11,
   "metadata": {},
   "outputs": [
    {
     "data": {
      "text/plain": [
       "array([402.96533, 432.80798], dtype=float32)"
      ]
     },
     "execution_count": 11,
     "metadata": {},
     "output_type": "execute_result"
    }
   ],
   "source": [
    "out.view(2,-1).sum(1).detach().numpy()"
   ]
  },
  {
   "cell_type": "code",
   "execution_count": 12,
   "metadata": {},
   "outputs": [],
   "source": [
    "train_dataset=ShanghaiTech()\n",
    "#print(train_dataset.data.shape)\n",
    "train_loader = torch.utils.data.DataLoader(train_dataset,batch_size=2, shuffle=True)\n",
    "#test_dataset=ShanghaiTech(train=False)\n",
    "#test_loader = torch.utils.data.DataLoader(test_dataset, batch_size=30, shuffle=True)"
   ]
  },
  {
   "cell_type": "code",
   "execution_count": 32,
   "metadata": {},
   "outputs": [],
   "source": [
    "def train(model,data_loader,loss_func,optimizer,n_epochs=1):\n",
    "    \n",
    "    model.train(True)\n",
    "    \n",
    "    loss_train = np.zeros(n_epochs)\n",
    "    metrics_train = np.zeros((2,n_epochs))\n",
    "    \n",
    "    for epoch_num in range(n_epochs):\n",
    "        running_loss = 0.0\n",
    "        size = 0\n",
    "\n",
    "        for data in data_loader:\n",
    "            inputs, targets = data\n",
    "            counts,labels=targets[0],targets[1]\n",
    "            #inputs=torch.from_numpy(inputs)\n",
    "            #labels=torch.from_numpy(labels)\n",
    "            #counts=torch.from_numpy(counts)\n",
    "            bs = labels.size(0)\n",
    "            \n",
    "            if use_gpu:\n",
    "                inputs.cuda()\n",
    "            torch.reshape(inputs,(-1,3,224,224))\n",
    "            torch.reshape(labels,(-1,1,224,224))\n",
    "            inputs = inputs.type('torch.FloatTensor')\n",
    "            labels = labels.type('torch.FloatTensor')\n",
    "            counts = counts.type('torch.FloatTensor')\n",
    "            outputs = model(inputs)\n",
    "\n",
    "\n",
    "            # in your training loop:\n",
    "            optimizer.zero_grad()   # zero the gradient buffers\n",
    "            loss = loss_func(outputs, labels)\n",
    "            loss.backward()\n",
    "            optimizer.step()    # Does the update\n",
    "            \n",
    "            running_loss += loss\n",
    "            size += bs\n",
    "        epoch_loss = running_loss / size\n",
    "        epoch_mae = torch.mean(torch.abs(counts-torch.sum(outputs,dim=(1,2,3)))) #running_corrects.item() / size\n",
    "        epoch_mse=  torch.sqrt(torch.mean(torch.abs(counts-torch.sum(outputs,dim=(1,2,3)))**2)) #labels[:][0]\n",
    "        loss_train[epoch_num] = epoch_loss\n",
    "        metrics_train[0][epoch_num] = epoch_mae\n",
    "        metrics_train[1][epoch_num] = epoch_mse\n",
    "        \n",
    "        print('Train - Loss: {:.4f} MAE: {:.4f} - MSE: {:.4f}'.format(epoch_loss, epoch_mae,epoch_mse))\n",
    "        \n",
    "    return loss_train, acc_train"
   ]
  },
  {
   "cell_type": "code",
   "execution_count": null,
   "metadata": {},
   "outputs": [],
   "source": [
    "def train(args, train_loader, model, criterion, optimizer, logger, epoch,\n",
    "          eval_score=None, print_freq=10, tb_writer=None):\n",
    "    \n",
    "    # switch to train mode\n",
    "    model.train()\n",
    "    meters = logger.reset_meters('train')\n",
    "    meters_params = logger.reset_meters('hyperparams')\n",
    "    meters_params['learning_rate'].update(optimizer.param_groups[0]['lr'])\n",
    "    end = time.time()\n",
    "\n",
    "    for i, (inputs, targets) in enumerate(train_loader):\n",
    "        inputs, targets = data\n",
    "        counts,labels=targets[0],targets[1]\n",
    "        # print(f'{i} - {inputs.size()} - {targets.size()}')\n",
    "        batch_size = inputs.size(0)\n",
    "\n",
    "        # measure data loading time\n",
    "        meters['data_time'].update(time.time() - end, n=batch_size)\n",
    "       \n",
    "        inputs, targets = inputs.to(args.device).requires_grad_(), targets.to(args.device)\n",
    "        outputs = model(inputs)\n",
    "\n",
    "        loss = criterion(outputs, labels)\n",
    "        \n",
    "        meters['loss'].update(loss.data.item(), n=batch_size)\n",
    "        \n",
    "        # compute gradient and do SGD step\n",
    "        optimizer.zero_grad()\n",
    "        loss.backward()\n",
    "        optimizer.step()\n",
    "\n",
    "        # measure accuracy and record loss\n",
    "        if eval_score is not None:\n",
    "            mse, pred, label = eval_score(outputs, targets)\n",
    "            meters['mse'].update(mse, n=batch_size)\n",
    "            meters['mae'].update(mae, n=batch_size)\n",
    "\n",
    "\n",
    "        # measure elapsed time\n",
    "        meters['batch_time'].update(time.time() - end, n=batch_size)\n",
    "        end = time.time()\n",
    "\n",
    "        if i % print_freq == 0:\n",
    "            print('Epoch: [{0}][{1}/{2}]\\t'\n",
    "                  'Time {batch_time.val:.3f} ({batch_time.avg:.3f})\\t'\n",
    "                  'Data {data_time.val:.3f} ({data_time.avg:.3f})\\t'\n",
    "                  'LR {lr.val:.2e}\\t'\n",
    "                  'Loss {loss.val:.4f} ({loss.avg:.4f})\\t'\n",
    "                  'Acc@1 {top1.val:.3f} ({top1.avg:.3f})'.format(\n",
    "                   epoch, i, len(train_loader), batch_time=meters['batch_time'],\n",
    "                   data_time=meters['data_time'], lr=meters_params['learning_rate'], loss=meters['loss'], top1=meters['mse']))\n",
    "\n",
    "\n",
    "        if True == args.short_run:\n",
    "            if 12 == i:\n",
    "                print(' --- running in short-run mode: leaving epoch earlier ---')\n",
    "                break    \n",
    "\n",
    "   \n",
    "    if args.tensorboard:\n",
    "        tb_writer.add_scalar('mse/train', meters['mse'].avg, epoch)\n",
    "        tb_writer.add_scalar('loss/train', meters['loss'].avg, epoch)\n",
    "        tb_writer.add_scalar('learning rate', meters_params['learning_rate'].val, epoch)\n",
    "       \n",
    "    logger.log_meters('train', n=epoch)\n",
    "    logger.log_meters('hyperparams', n=epoch)"
   ]
  },
  {
   "cell_type": "code",
   "execution_count": 33,
   "metadata": {},
   "outputs": [
    {
     "name": "stdout",
     "output_type": "stream",
     "text": [
      "thiiiis\n",
      "thiiiis\n",
      "thiiiis\n",
      "thiiiis\n",
      "thiiiis\n",
      "thiiiis\n",
      "Train - Loss: 0.0000 MAE: 613.2861 - MSE: 619.1187\n"
     ]
    },
    {
     "ename": "NameError",
     "evalue": "name 'acc_train' is not defined",
     "output_type": "error",
     "traceback": [
      "\u001b[0;31m---------------------------------------------------------------------------\u001b[0m",
      "\u001b[0;31mNameError\u001b[0m                                 Traceback (most recent call last)",
      "\u001b[0;32m<ipython-input-33-fd3538d470d8>\u001b[0m in \u001b[0;36m<module>\u001b[0;34m\u001b[0m\n\u001b[1;32m      2\u001b[0m \u001b[0mloss_func\u001b[0m \u001b[0;34m=\u001b[0m\u001b[0mnn\u001b[0m\u001b[0;34m.\u001b[0m\u001b[0mMSELoss\u001b[0m\u001b[0;34m(\u001b[0m\u001b[0;34m)\u001b[0m\u001b[0;34m\u001b[0m\u001b[0;34m\u001b[0m\u001b[0m\n\u001b[1;32m      3\u001b[0m \u001b[0moptimizer\u001b[0m \u001b[0;34m=\u001b[0m \u001b[0moptim\u001b[0m\u001b[0;34m.\u001b[0m\u001b[0mSGD\u001b[0m\u001b[0;34m(\u001b[0m\u001b[0mmodel\u001b[0m\u001b[0;34m.\u001b[0m\u001b[0mparameters\u001b[0m\u001b[0;34m(\u001b[0m\u001b[0;34m)\u001b[0m\u001b[0;34m,\u001b[0m \u001b[0mlr\u001b[0m\u001b[0;34m=\u001b[0m\u001b[0;36m1e-6\u001b[0m\u001b[0;34m)\u001b[0m\u001b[0;34m\u001b[0m\u001b[0;34m\u001b[0m\u001b[0m\n\u001b[0;32m----> 4\u001b[0;31m \u001b[0ml_t\u001b[0m\u001b[0;34m,\u001b[0m \u001b[0ma_t\u001b[0m \u001b[0;34m=\u001b[0m \u001b[0mtrain\u001b[0m\u001b[0;34m(\u001b[0m\u001b[0mmodel\u001b[0m\u001b[0;34m,\u001b[0m \u001b[0mtrain_loader\u001b[0m\u001b[0;34m,\u001b[0m \u001b[0mloss_func\u001b[0m\u001b[0;34m,\u001b[0m \u001b[0moptimizer\u001b[0m\u001b[0;34m,\u001b[0m \u001b[0mn_epochs\u001b[0m\u001b[0;34m=\u001b[0m\u001b[0;36m1\u001b[0m\u001b[0;34m)\u001b[0m\u001b[0;34m\u001b[0m\u001b[0;34m\u001b[0m\u001b[0m\n\u001b[0m",
      "\u001b[0;32m<ipython-input-32-97a4ce03f81d>\u001b[0m in \u001b[0;36mtrain\u001b[0;34m(model, data_loader, loss_func, optimizer, n_epochs)\u001b[0m\n\u001b[1;32m     45\u001b[0m         \u001b[0mprint\u001b[0m\u001b[0;34m(\u001b[0m\u001b[0;34m'Train - Loss: {:.4f} MAE: {:.4f} - MSE: {:.4f}'\u001b[0m\u001b[0;34m.\u001b[0m\u001b[0mformat\u001b[0m\u001b[0;34m(\u001b[0m\u001b[0mepoch_loss\u001b[0m\u001b[0;34m,\u001b[0m \u001b[0mepoch_mae\u001b[0m\u001b[0;34m,\u001b[0m\u001b[0mepoch_mse\u001b[0m\u001b[0;34m)\u001b[0m\u001b[0;34m)\u001b[0m\u001b[0;34m\u001b[0m\u001b[0;34m\u001b[0m\u001b[0m\n\u001b[1;32m     46\u001b[0m \u001b[0;34m\u001b[0m\u001b[0m\n\u001b[0;32m---> 47\u001b[0;31m     \u001b[0;32mreturn\u001b[0m \u001b[0mloss_train\u001b[0m\u001b[0;34m,\u001b[0m \u001b[0macc_train\u001b[0m\u001b[0;34m\u001b[0m\u001b[0;34m\u001b[0m\u001b[0m\n\u001b[0m",
      "\u001b[0;31mNameError\u001b[0m: name 'acc_train' is not defined"
     ]
    }
   ],
   "source": [
    "model = CSRNet()\n",
    "loss_func =nn.MSELoss() \n",
    "optimizer = optim.Adam(model.parameters(), lr=1e-6)\n",
    "l_t, a_t = train(model, train_loader, loss_func, optimizer, n_epochs=1)"
   ]
  },
  {
   "cell_type": "code",
   "execution_count": null,
   "metadata": {},
   "outputs": [],
   "source": [
    "def test(model,data_loader):\n",
    "    model.train(False)\n",
    "\n",
    "    running_corrects = 0.0\n",
    "    running_loss = 0.0\n",
    "    size = 0\n",
    "    \n",
    "    with torch.no_grad():\n",
    "        for data in data_loader:\n",
    "            inputs, labels = data    \n",
    "            bs = labels.size(0)\n",
    "\n",
    "            if use_gpu:\n",
    "                inputs.cuda()\n",
    "            outputs = model(inputs)\n",
    "            loss = criterion(outputs, labels)\n",
    "            running_loss += loss\n",
    "            running_corrects += ?\n",
    "            size += bs\n",
    "\n",
    "    print('Test - Loss: {:.4f} Acc: {:.4f}'.format(running_loss / size, running_corrects.item() / size))"
   ]
  },
  {
   "cell_type": "code",
   "execution_count": null,
   "metadata": {},
   "outputs": [],
   "source": [
    "def train(args, train_loader, model, criterion, optimizer, logger, epoch,\n",
    "          eval_score=None, print_freq=10, tb_writer=None):\n",
    "    \n",
    "    # switch to train mode\n",
    "    model.train()\n",
    "    meters = logger.reset_meters('train')\n",
    "    meters_params = logger.reset_meters('hyperparams')\n",
    "    meters_params['learning_rate'].update(optimizer.param_groups[0]['lr'])\n",
    "    end = time.time()\n",
    "\n",
    "    for i, (input, target_class) in enumerate(train_loader):\n",
    "        # print(f'{i} - {input.size()} - {target_class.size()}')\n",
    "        batch_size = input.size(0)\n",
    "\n",
    "        # measure data loading time\n",
    "        meters['data_time'].update(time.time() - end, n=batch_size)\n",
    "       \n",
    "        input, target_class = input.to(args.device).requires_grad_(), target_class.to(args.device)\n",
    "        output = model(input)\n",
    "\n",
    "        loss = criterion(output, target_class)\n",
    "        \n",
    "        meters['loss'].update(loss.data.item(), n=batch_size)\n",
    "        \n",
    "        # compute gradient and do SGD step\n",
    "        optimizer.zero_grad()\n",
    "        loss.backward()\n",
    "        optimizer.step()\n",
    "\n",
    "        # measure accuracy and record loss\n",
    "        if eval_score is not None:\n",
    "            acc1, pred, label = eval_score(output, target_class)\n",
    "            meters['acc1'].update(acc1, n=batch_size)\n",
    "            meters['confusion_matrix'].update(pred.squeeze(), label.type(torch.LongTensor))\n",
    "\n",
    "\n",
    "        # measure elapsed time\n",
    "        meters['batch_time'].update(time.time() - end, n=batch_size)\n",
    "        end = time.time()\n",
    "\n",
    "        if i % print_freq == 0:\n",
    "            print('Epoch: [{0}][{1}/{2}]\\t'\n",
    "                  'Time {batch_time.val:.3f} ({batch_time.avg:.3f})\\t'\n",
    "                  'Data {data_time.val:.3f} ({data_time.avg:.3f})\\t'\n",
    "                  'LR {lr.val:.2e}\\t'\n",
    "                  'Loss {loss.val:.4f} ({loss.avg:.4f})\\t'\n",
    "                  'Acc@1 {top1.val:.3f} ({top1.avg:.3f})'.format(\n",
    "                   epoch, i, len(train_loader), batch_time=meters['batch_time'],\n",
    "                   data_time=meters['data_time'], lr=meters_params['learning_rate'], loss=meters['loss'], top1=meters['acc1']))\n",
    "\n",
    "\n",
    "        if True == args.short_run:\n",
    "            if 12 == i:\n",
    "                print(' --- running in short-run mode: leaving epoch earlier ---')\n",
    "                break    \n",
    "\n",
    "   \n",
    "    if args.tensorboard:\n",
    "        tb_writer.add_scalar('acc1/train', meters['acc1'].avg, epoch)\n",
    "        tb_writer.add_scalar('loss/train', meters['loss'].avg, epoch)\n",
    "        tb_writer.add_scalar('learning rate', meters_params['learning_rate'].val, epoch)\n",
    "       \n",
    "    logger.log_meters('train', n=epoch)\n",
    "logger.log_meters('hyperparams', n=epoch)"
   ]
  },
  {
   "cell_type": "code",
   "execution_count": null,
   "metadata": {},
   "outputs": [],
   "source": []
  },
  {
   "cell_type": "code",
   "execution_count": null,
   "metadata": {},
   "outputs": [],
   "source": []
  }
 ],
 "metadata": {
  "kernelspec": {
   "display_name": "Python 3",
   "language": "python",
   "name": "python3"
  },
  "language_info": {
   "codemirror_mode": {
    "name": "ipython",
    "version": 3
   },
   "file_extension": ".py",
   "mimetype": "text/x-python",
   "name": "python",
   "nbconvert_exporter": "python",
   "pygments_lexer": "ipython3",
   "version": "3.6.8"
  }
 },
 "nbformat": 4,
 "nbformat_minor": 2
}
