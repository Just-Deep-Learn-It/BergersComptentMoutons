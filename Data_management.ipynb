{
 "cells": [
  {
   "cell_type": "code",
   "execution_count": null,
   "metadata": {},
   "outputs": [],
   "source": [
    "import os\n",
    "import scipy\n",
    "import scipy.io as scio\n",
    "from scipy import stats\n",
    "from scipy import ndimage\n",
    "from PIL import Image\n",
    "import matplotlib.pyplot as plt\n",
    "import numpy as np\n",
    "import cv2"
   ]
  },
  {
   "cell_type": "code",
   "execution_count": null,
   "metadata": {},
   "outputs": [],
   "source": [
    "cwd = os.getcwd()"
   ]
  },
  {
   "cell_type": "code",
   "execution_count": null,
   "metadata": {},
   "outputs": [],
   "source": [
    "path_to_data = os.path.join(cwd, r\"ShanghaiTech/part_A\") # replace by the path where you put your data"
   ]
  },
  {
   "cell_type": "code",
   "execution_count": null,
   "metadata": {},
   "outputs": [],
   "source": [
    "path_to_data"
   ]
  },
  {
   "cell_type": "markdown",
   "metadata": {},
   "source": [
    "### Creating the required folders in the folder containing the dataset"
   ]
  },
  {
   "cell_type": "code",
   "execution_count": null,
   "metadata": {},
   "outputs": [],
   "source": [
    "os.mkdir(os.path.join(path_to_data,r\"train_data/GT_density_map\"))\n",
    "os.mkdir(os.path.join(path_to_data,r\"train_data/images_cropped\"))\n",
    "os.mkdir(os.path.join(path_to_data,r\"train_data/GT_density_map_cropped\"))\n",
    "os.mkdir(os.path.join(path_to_data,r\"test_data/GT_density_map\"))\n",
    "os.mkdir(os.path.join(path_to_data,r\"test_data/images_cropped\"))\n",
    "os.mkdir(os.path.join(path_to_data,r\"test_data/GT_density_map_cropped\"))"
   ]
  },
  {
   "cell_type": "code",
   "execution_count": null,
   "metadata": {},
   "outputs": [],
   "source": [
    "os.mkdir(os.path.join(path_to_data,r\"validation_data\"))\n",
    "os.mkdir(os.path.join(path_to_data,r\"validation_data/images_cropped\"))\n",
    "os.mkdir(os.path.join(path_to_data,r\"validation_data/GT_density_map_cropped\"))"
   ]
  },
  {
   "cell_type": "markdown",
   "metadata": {},
   "source": [
    "### Defining the function that will allow us to generate the ground-truth density maps"
   ]
  },
  {
   "cell_type": "code",
   "execution_count": null,
   "metadata": {},
   "outputs": [],
   "source": [
    "def gaussian_filter_density(gt):\n",
    "    #print(gt.shape)\n",
    "    density = np.zeros(gt.shape, dtype=np.float32)\n",
    "    gt_count = np.count_nonzero(gt)\n",
    "    if gt_count == 0:\n",
    "        return density\n",
    "\n",
    "    pts = np.array(list(zip(np.nonzero(gt)[1], np.nonzero(gt)[0])))\n",
    "    #print(\"pts=\",pts)\n",
    "    leafsize = 2048\n",
    "    # build kdtree\n",
    "    #print 'build kdtree...'\n",
    "    tree = scipy.spatial.KDTree(pts.copy(), leafsize=leafsize)\n",
    "    # query kdtree\n",
    "    #print 'query kdtree...' \n",
    "    distances, locations = tree.query(pts, k=4, eps=10.)\n",
    "\n",
    "    #print 'generate density...'\n",
    "    for i, pt in enumerate(pts):\n",
    "        pt2d = np.zeros(gt.shape, dtype=np.float32)\n",
    "        pt2d[pt[1],pt[0]] = 1.\n",
    "        if gt_count > 1:\n",
    "            sigma =((distances[i][1]+distances[i][2]+distances[i][3])/3)*0.3\n",
    "        else:\n",
    "            sigma = np.average(np.array(gt.shape))/2./2. #case: 1 point\n",
    "\n",
    "        density += scipy.ndimage.filters.gaussian_filter(pt2d, sigma, mode='constant')\n",
    "    #print 'done.'\n",
    "    return density"
   ]
  },
  {
   "cell_type": "markdown",
   "metadata": {},
   "source": [
    "### Creating the ground-truth density maps for both the training set and the test set"
   ]
  },
  {
   "cell_type": "code",
   "execution_count": null,
   "metadata": {},
   "outputs": [],
   "source": [
    "nb_train = len(os.listdir(os.path.join(path_to_data,r\"train_data/images\")))\n",
    "for num in range(1,nb_train+1):\n",
    "    img = plt.imread(os.path.join(path_to_data,r\"train_data/images/IMG_%s.jpg\"%str(num)))\n",
    "    mat = scio.loadmat(os.path.join(path_to_data,r\"train_data/ground-truth/GT_IMG_%s.mat\"%str(num)))\n",
    "    k = np.zeros((img.shape[0],img.shape[1]))\n",
    "    gt = mat[\"image_info\"][0][0][0][0][0]\n",
    "    for i in range(0,len(gt)):\n",
    "        if int(gt[i][1])<img.shape[0] and int(gt[i][0])<img.shape[1]:\n",
    "            k[int(gt[i][1]),int(gt[i][0])] = 1\n",
    "    dens = gaussian_filter_density(k)\n",
    "    np.save(os.path.join(path_to_data,r\"train_data/GT_density_map/GT_density_IMG_%s\"%str(num)), dens)"
   ]
  },
  {
   "cell_type": "code",
   "execution_count": null,
   "metadata": {},
   "outputs": [],
   "source": [
    "nb_test = len(os.listdir(os.path.join(path_to_data,r\"test_data/images\")))\n",
    "for num in range(1,nb_test+1):\n",
    "    img = plt.imread(os.path.join(path_to_data,r\"test_data/images/IMG_%s.jpg\"%str(num)))\n",
    "    mat = scio.loadmat(os.path.join(path_to_data,r\"test_data/ground-truth/GT_IMG_%s.mat\"%str(num)))\n",
    "    k = np.zeros((img.shape[0],img.shape[1]))\n",
    "    gt = mat[\"image_info\"][0][0][0][0][0]\n",
    "    for i in range(0,len(gt)):\n",
    "        if int(gt[i][1])<img.shape[0] and int(gt[i][0])<img.shape[1]:\n",
    "            k[int(gt[i][1]),int(gt[i][0])] = 1\n",
    "    dens = gaussian_filter_density(k)\n",
    "    np.save(os.path.join(path_to_data,r\"test_data/GT_density_map/GT_density_IMG_%s\"%str(num)), dens)"
   ]
  },
  {
   "cell_type": "markdown",
   "metadata": {},
   "source": [
    "### Cropping 9 images of size 224x224 from each image (for the training and the test sets)"
   ]
  },
  {
   "cell_type": "code",
   "execution_count": null,
   "metadata": {},
   "outputs": [],
   "source": [
    "# SCRIPT PART FOR CROPPING IMAGES. Change paths accordingly.\n",
    "images_path = os.path.join(path_to_data, r\"train_data/images\")\n",
    "densities_path = os.path.join(path_to_data, r\"train_data/GT_density_map\")\n",
    "#next are final paths to be used for getting training set\n",
    "cropped_images_path = os.path.join(path_to_data, r\"train_data/images_cropped\")\n",
    "cropped_densities_path = os.path.join(path_to_data, r\"train_data/GT_density_map_cropped\")\n",
    "counts = [0]*9*nb_train\n",
    "for num in range(1,nb_train+1):\n",
    "    if num%25==0 :\n",
    "        print(num)\n",
    "    img = cv2.imread(os.path.join(images_path, r\"IMG_%s.jpg\"%str(num)), flags=cv2.IMREAD_COLOR))\n",
    "    dens_map = np.load(os.path.join(densities_path, r\"GT_density_IMG_%s.npy\"%str(num)))\n",
    "    h,w = img.shape[0],img.shape[1]\n",
    "    #check if image has both dimensions greater than 224 otherwise skip\n",
    "    if  w >= 224 and h >= 224:\n",
    "        cropped_img = np.zeros((9,224,224,3)) \n",
    "        cropped_map = np.zeros((9,224,224)) # 9 density maps \n",
    "        if len(img.shape) < 3: # some images are in grey, ie only one canal\n",
    "            cropped_img = np.zeros((9,224,224))\n",
    "        \n",
    "        # We make 4 crops at the 4 corners of image as well as the corresponding density map\n",
    "        cropped_img[0], cropped_img[1] = img[:224,:224],img[:224,-224:]\n",
    "        cropped_img[2], cropped_img[3] = img[-224:,:224], img[-224:,-224:]\n",
    "        cropped_map[0], cropped_map[1] = dens_map[:224,:224], dens_map[:224,-224:]\n",
    "        cropped_map[2], cropped_map[3] = dens_map[-224:,:224], dens_map[-224:,-224:]\n",
    "\n",
    "        #We make five random crops of size 224x224 for both image and density map\n",
    "\n",
    "        x=np.random.randint(0,w-224+1,5)\n",
    "        y=np.random.randint(0,h-224+1,5)\n",
    "        for i in range(4,9):\n",
    "            cropped_img[i] = img[y[i-4]:y[i-4]+224,x[i-4]:x[i-4]+224]\n",
    "            cropped_map[i] = dens_map[y[i-4]:y[i-4]+224,x[i-4]:x[i-4]+224]\n",
    "        for i in range(9):\n",
    "            cv2.imwrite(os.path.join(cropped_images_path, r\"cropped_IMG_%s_%s_0.jpg\"%(str(num),str(i))),\n",
    "                        cropped_img[i])\n",
    "            cv2.imwrite(os.path.join(cropped_images_path, r\"cropped_IMG_%s_%s_1.jpg\"%(str(num),str(i))),\n",
    "                        cv2.flip(cropped_img[i],1))\n",
    "            np.save(os.path.join(cropped_densities_path, r\"GT_density_cropped_IMG_%s_%s_0\"%(str(num),str(i))),\n",
    "                    cropped_map[i])\n",
    "            np.save(os.path.join(cropped_densities_path, r\"GT_density_cropped_IMG_%s_%s_1\"%(str(num),str(i))),\n",
    "                    np.fliplr(cropped_map[i]))\n",
    "            counts[i+num*(9-1)] = np.sum(cropped_map[i])\n",
    "counts_train=np.asarray(counts)\n",
    "np.save(os.path.join(path_to_data, r\"train_data/count_train\"), counts_train)"
   ]
  },
  {
   "cell_type": "code",
   "execution_count": null,
   "metadata": {},
   "outputs": [],
   "source": [
    "# SCRIPT PART FOR CROPPING IMAGES. Change paths accordingly.\n",
    "images_path = os.path.join(path_to_data, r\"test_data/images\")\n",
    "densities_path = os.path.join(path_to_data, r\"test_data/GT_density_map\")\n",
    "#next are final paths to be used for getting test set\n",
    "cropped_images_path = os.path.join(path_to_data, r\"test_data/images_cropped\")\n",
    "cropped_densities_path = os.path.join(path_to_data, r\"test_data/GT_density_map_cropped\")\n",
    "counts = [0]*9*nb_test\n",
    "for num in range(1,nb_test+1):\n",
    "    if num%25==0 :\n",
    "        print(num)\n",
    "    img = cv2.imread(os.path.join(images_path, r\"IMG_%s.jpg\"%str(num)), flags=cv2.IMREAD_COLOR)\n",
    "    dens_map = np.load(os.path.join(densities_path, r\"GT_density_IMG_%s.npy\"%str(num)))\n",
    "    h,w = img.shape[0],img.shape[1]\n",
    "    #check if image has both dimensions greater than 224 otherwise skip\n",
    "    if  w >= 224 and h >= 224:\n",
    "        cropped_img = np.zeros((9,224,224,3)) \n",
    "        cropped_map = np.zeros((9,224,224)) # 9 density maps \n",
    "        if len(img.shape) < 3: # some images are in grey, ie only one canal\n",
    "            cropped_img = np.zeros((9,224,224))\n",
    "        \n",
    "        # We make 4 crops at the 4 corners of image as well as the corresponding density map\n",
    "        cropped_img[0], cropped_img[1] = img[:224,:224],img[:224,-224:]\n",
    "        cropped_img[2], cropped_img[3] = img[-224:,:224], img[-224:,-224:]\n",
    "        cropped_map[0], cropped_map[1] = dens_map[:224,:224], dens_map[:224,-224:]\n",
    "        cropped_map[2], cropped_map[3] = dens_map[-224:,:224], dens_map[-224:,-224:]\n",
    "\n",
    "        #We make five random crops of size 224x224 for both image and density map\n",
    "\n",
    "        x=np.random.randint(0,w-224+1,5)\n",
    "        y=np.random.randint(0,h-224+1,5)\n",
    "        for i in range(4,9):\n",
    "            cropped_img[i] = img[y[i-4]:y[i-4]+224,x[i-4]:x[i-4]+224]\n",
    "            cropped_map[i] = dens_map[y[i-4]:y[i-4]+224,x[i-4]:x[i-4]+224]\n",
    "        for i in range(9):\n",
    "            cv2.imwrite(os.path.join(cropped_images_path, r\"cropped_IMG_%s_%s_0.jpg\"%(str(num),str(i))),\n",
    "                        cropped_img[i])\n",
    "            cv2.imwrite(os.path.join(cropped_images_path, r\"cropped_IMG_%s_%s_1.jpg\"%(str(num),str(i))),\n",
    "                        cv2.flip(cropped_img[i],1))\n",
    "            np.save(os.path.join(cropped_densities_path, r\"GT_density_cropped_IMG_%s_%s_0\"%(str(num),str(i))),\n",
    "                    cropped_map[i])\n",
    "            np.save(os.path.join(cropped_densities_path, r\"GT_density_cropped_IMG_%s_%s_1\"%(str(num),str(i))),\n",
    "                    cropped_map[i])\n",
    "            counts[i+num*(9-1)] = np.sum(cropped_map[i])\n",
    "counts_test=np.asarray(counts)\n",
    "np.save(os.path.join(path_to_data, r\"test_data/count_test\"), counts_test)"
   ]
  },
  {
   "cell_type": "markdown",
   "metadata": {},
   "source": [
    "### Splitting the training set into 90% of training and 10% of validation"
   ]
  },
  {
   "cell_type": "code",
   "execution_count": null,
   "metadata": {},
   "outputs": [],
   "source": [
    "np.save(os.path.join(path_to_data, r\"validation_data/count_validation\"), counts_train)"
   ]
  },
  {
   "cell_type": "code",
   "execution_count": null,
   "metadata": {},
   "outputs": [],
   "source": [
    "crop_images = os.listdir(os.path.join(path_to_data, r\"train_data/images_cropped\"))\n",
    "#crop_dens_maps = os.listdir(os.path.join(path_to_data, r\"train_data/GT_density_map_cropped\"))\n",
    "nb_train_crop = len(crop_images)\n",
    "print(nb_train_crop)"
   ]
  },
  {
   "cell_type": "code",
   "execution_count": null,
   "metadata": {},
   "outputs": [],
   "source": [
    "np.random.seed(42)\n",
    "index = np.random.choice(np.arange(nb_train_crop), int(0.1*nb_train_crop), replace=False)"
   ]
  },
  {
   "cell_type": "code",
   "execution_count": null,
   "metadata": {},
   "outputs": [],
   "source": [
    "for i in index:\n",
    "    crop_img = cv2.imread(os.path.join(path_to_data, r\"train_data/images_cropped/%s\"%crop_images[i]),\n",
    "                          flags=cv2.IMREAD_COLOR)\n",
    "    name_dens_map = \"GT_density_cropped_\" + crop_images[i].split('_',1)[1].split('.')[0] + \".npy\"\n",
    "    crop_dens_map = np.load(os.path.join(path_to_data, r\"train_data/GT_density_map_cropped/%s\"%name_dens_map))\n",
    "    cv2.imwrite(os.path.join(path_to_data, r\"validation_data/images_cropped/%s\"%crop_images[i]), crop_img)\n",
    "    np.save(os.path.join(path_to_data, r\"validation_data/GT_density_map_cropped/%s\"%crop_dens_maps[i][:-4]),\n",
    "            crop_dens_map)\n",
    "    os.remove(os.path.join(path_to_data, r\"train_data/images_cropped/%s\"%crop_images[i]))\n",
    "    os.remove(os.path.join(path_to_data, r\"train_data/GT_density_map_cropped/%s\"%crop_dens_maps[i]))"
   ]
  },
  {
   "cell_type": "code",
   "execution_count": null,
   "metadata": {},
   "outputs": [],
   "source": [
    "train_crop_images = os.listdir(os.path.join(path_to_data, r\"train_data/images_cropped\"))\n",
    "validation_crop_images = os.listdir(os.path.join(path_to_data, r\"validation_data/images_cropped\"))\n",
    "test_crop_images = os.listdir(os.path.join(path_to_data, r\"test_data/images_cropped\"))\n",
    "nb_train_crop = len(train_crop_images)\n",
    "nb_validation_crop = len(validation_crop_images)\n",
    "nb_test_crop = len(test_crop_images)\n",
    "print(nb_train_crop)\n",
    "print(nb_validation_crop)\n",
    "print(nb_test_crop)"
   ]
  }
 ],
 "metadata": {
  "kernelspec": {
   "display_name": "Python 3",
   "language": "python",
   "name": "python3"
  },
  "language_info": {
   "codemirror_mode": {
    "name": "ipython",
    "version": 3
   },
   "file_extension": ".py",
   "mimetype": "text/x-python",
   "name": "python",
   "nbconvert_exporter": "python",
   "pygments_lexer": "ipython3",
   "version": "3.7.1"
  }
 },
 "nbformat": 4,
 "nbformat_minor": 2
}
