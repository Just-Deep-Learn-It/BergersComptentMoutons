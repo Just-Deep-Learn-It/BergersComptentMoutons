{
 "cells": [
  {
   "cell_type": "code",
   "execution_count": 1,
   "metadata": {},
   "outputs": [],
   "source": [
    "import os\n",
    "import os.path\n",
    "import numpy as np\n",
    "import torch \n",
    "import torch.utils.data as data \n",
    "import torchvision\n",
    "from torchvision import transforms\n",
    "import matplotlib.pyplot as plt\n",
    "from PIL import Image"
   ]
  },
  {
   "cell_type": "code",
   "execution_count": 22,
   "metadata": {},
   "outputs": [
    {
     "data": {
      "text/plain": [
       "array([2, 5])"
      ]
     },
     "execution_count": 22,
     "metadata": {},
     "output_type": "execute_result"
    }
   ],
   "source": [
    "target=np.array([[1,2,3], [4,5,6]])\n",
    "target[:,1]"
   ]
  },
  {
   "cell_type": "code",
   "execution_count": 130,
   "metadata": {},
   "outputs": [],
   "source": [
    "class ShanghaiTech(data.Dataset):\n",
    "    \n",
    "\n",
    "    def __init__(self, root='~/Desktop/EA', train=True, transform=None, target_transform=None):\n",
    "        self.root = os.path.expanduser(root)\n",
    "        self.base_folder='ShanghaiTech/part_A/'\n",
    "        self.transform = transform\n",
    "        self.target_transform = target_transform\n",
    "        self.train = train  # training set or test set\n",
    "        \n",
    "\n",
    "        if self.train:\n",
    "            data_dir = os.path.join(self.root, self.base_folder, 'train_data/')\n",
    "            count_path=os.path.join(data_dir,'count_train_part_A.npy')\n",
    "        else:\n",
    "            data_dir = os.path.join(self.root, self.base_folder, 'test_data/')\n",
    "            count_path=os.path.join(data_dir,'count_test_part_A.npy')\n",
    "        \n",
    "        images_dir=os.listdir(os.path.join(data_dir,'images/'))\n",
    "        N=len(images_dir)\n",
    "        self.counts=[]\n",
    "        self.data=[]\n",
    "        self.targets=[]\n",
    "        \n",
    "        count=np.load(count_path)\n",
    "        i=0\n",
    "        for image_name in images_dir:\n",
    "            image_path=os.path.join(data_dir,'images/',image_name)\n",
    "            \n",
    "            density_name='GT_density_'+image_name.split('.jpg',1)[0]+'.npy'\n",
    "            density_path=os.path.join(data_dir,'GT_density_map/',density_name)\n",
    "            #print(os.path.join(data_dir,'images/'))\n",
    "            self.data.append(plt.imread(image_path)[:224,:224])\n",
    "            self.counts.append(count[i])\n",
    "            self.targets.append(np.load(density_path)[:224,:224])\n",
    "            \n",
    "            i+=1\n",
    "            if i>2:\n",
    "                break\n",
    "                \n",
    "        self.data, self.targets,self.counts= np.asarray(self.data) , np.asarray(self.targets),np.asarray(self.counts)\n",
    "        \n",
    "        #self.data, self.targets = torch.from_numpy(self.data) , torch.from_numpy(self.targets)\n",
    "        \n",
    "    def __getitem__(self, index):\n",
    "        \"\"\"\n",
    "        Args:\n",
    "            index (int): Index\n",
    "\n",
    "        Returns:\n",
    "            tuple: (image, target) where target is index of the target class.\n",
    "        \"\"\"\n",
    "        img, target = self.data[index], self.targets[:,index]\n",
    "\n",
    "        # doing this so that it is consistent with all other datasets\n",
    "        # to return a PIL Image\n",
    "        img = Image.fromarray(img.numpy(), mode='L')\n",
    "\n",
    "        if self.transform is not None:\n",
    "            img = self.transform(img)\n",
    "\n",
    "        if self.target_transform is not None:\n",
    "            target = self.target_transform(target)\n",
    "\n",
    "        return img, target\n",
    "    \n",
    "    def __len__(self):\n",
    "        return len(self.data)\n",
    "    \n",
    "    def labels(self):\n",
    "        return self.targets\n",
    "    \n",
    "    def data(self):\n",
    "        return self.data\n"
   ]
  },
  {
   "cell_type": "code",
   "execution_count": 131,
   "metadata": {},
   "outputs": [],
   "source": [
    "dataset=ShanghaiTech('~/Desktop/EA') # Change the path to the root folder"
   ]
  },
  {
   "cell_type": "code",
   "execution_count": 132,
   "metadata": {},
   "outputs": [
    {
     "data": {
      "text/plain": [
       "(3, 224, 224, 3)"
      ]
     },
     "execution_count": 132,
     "metadata": {},
     "output_type": "execute_result"
    }
   ],
   "source": [
    "dataset.data.shape"
   ]
  },
  {
   "cell_type": "code",
   "execution_count": 133,
   "metadata": {},
   "outputs": [
    {
     "data": {
      "text/plain": [
       "(3, 224, 224)"
      ]
     },
     "execution_count": 133,
     "metadata": {},
     "output_type": "execute_result"
    }
   ],
   "source": [
    "dataset.targets.shape"
   ]
  },
  {
   "cell_type": "code",
   "execution_count": 134,
   "metadata": {},
   "outputs": [
    {
     "data": {
      "text/plain": [
       "(3,)"
      ]
     },
     "execution_count": 134,
     "metadata": {},
     "output_type": "execute_result"
    }
   ],
   "source": [
    "dataset.counts.shape"
   ]
  },
  {
   "cell_type": "code",
   "execution_count": null,
   "metadata": {},
   "outputs": [],
   "source": []
  }
 ],
 "metadata": {
  "kernelspec": {
   "display_name": "Python 3",
   "language": "python",
   "name": "python3"
  },
  "language_info": {
   "codemirror_mode": {
    "name": "ipython",
    "version": 3
   },
   "file_extension": ".py",
   "mimetype": "text/x-python",
   "name": "python",
   "nbconvert_exporter": "python",
   "pygments_lexer": "ipython3",
   "version": "3.6.8"
  }
 },
 "nbformat": 4,
 "nbformat_minor": 2
}
