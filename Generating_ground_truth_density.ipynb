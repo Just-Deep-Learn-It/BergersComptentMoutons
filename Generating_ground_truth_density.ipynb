{
 "cells": [
  {
   "cell_type": "code",
   "execution_count": 35,
   "metadata": {},
   "outputs": [],
   "source": [
    "import scipy\n",
    "import scipy.io as scio\n",
    "from scipy import stats\n",
    "from scipy import ndimage\n",
    "from PIL import Image\n",
    "import matplotlib.pyplot as plt\n",
    "import numpy as np\n",
    "import cv2"
   ]
  },
  {
   "cell_type": "code",
   "execution_count": 2,
   "metadata": {},
   "outputs": [],
   "source": [
    "def gaussian_filter_density(gt):\n",
    "    print(gt.shape)\n",
    "    density = np.zeros(gt.shape, dtype=np.float32)\n",
    "    gt_count = np.count_nonzero(gt)\n",
    "    if gt_count == 0:\n",
    "        return density\n",
    "\n",
    "    pts = np.array(list(zip(np.nonzero(gt)[1], np.nonzero(gt)[0])))\n",
    "    #print(\"pts=\",pts)\n",
    "    leafsize = 2048\n",
    "    # build kdtree\n",
    "    #print 'build kdtree...'\n",
    "    tree = scipy.spatial.KDTree(pts.copy(), leafsize=leafsize)\n",
    "    # query kdtree\n",
    "    #print 'query kdtree...' \n",
    "    distances, locations = tree.query(pts, k=4, eps=10.)\n",
    "\n",
    "    #print 'generate density...'\n",
    "    for i, pt in enumerate(pts):\n",
    "        pt2d = np.zeros(gt.shape, dtype=np.float32)\n",
    "        pt2d[pt[1],pt[0]] = 1.\n",
    "        if gt_count > 1:\n",
    "            sigma =((distances[i][1]+distances[i][2]+distances[i][3])/3)*0.3\n",
    "        else:\n",
    "            sigma = np.average(np.array(gt.shape))/2./2. #case: 1 point\n",
    "\n",
    "        density += scipy.ndimage.filters.gaussian_filter(pt2d, sigma, mode='constant')\n",
    "    #print 'done.'\n",
    "    return density"
   ]
  },
  {
   "cell_type": "code",
   "execution_count": 2,
   "metadata": {},
   "outputs": [],
   "source": [
    "def gaussian_filter_density(gt):\n",
    "    print(gt.shape)\n",
    "    density = np.zeros(gt.shape, dtype=np.float32)\n",
    "    gt_count = np.count_nonzero(gt)\n",
    "    if gt_count == 0:\n",
    "        return density\n",
    "\n",
    "    pts = np.array(list(zip(np.nonzero(gt)[1], np.nonzero(gt)[0])))\n",
    "    #print(\"pts=\",pts)\n",
    "    leafsize = 2048\n",
    "    # build kdtree\n",
    "    #print 'build kdtree...'\n",
    "    tree = scipy.spatial.KDTree(pts.copy(), leafsize=leafsize)\n",
    "    # query kdtree\n",
    "    #print 'query kdtree...' \n",
    "    distances, locations = tree.query(pts, k=4, eps=10.)\n",
    "\n",
    "    #print 'generate density...'\n",
    "    for i, pt in enumerate(pts):\n",
    "        pt2d = np.zeros(gt.shape, dtype=np.float32)\n",
    "        pt2d[pt[1],pt[0]] = 1.\n",
    "        if gt_count > 1:\n",
    "            sigma =((distances[i][1]+distances[i][2]+distances[i][3])/3)*0.3\n",
    "        else:\n",
    "            sigma = np.average(np.array(gt.shape))/2./2. #case: 1 point\n",
    "\n",
    "        density += scipy.ndimage.filters.gaussian_filter(pt2d, sigma, mode='constant')\n",
    "    #print 'done.'\n",
    "    return density"
   ]
  },
  {
   "cell_type": "code",
   "execution_count": 3,
   "metadata": {
    "scrolled": true
   },
   "outputs": [
    {
     "data": {
      "text/plain": [
       "'for num in range(50,150):\\n    img = plt.imread(\\'./ShanghaiTech/part_A/train_data/images/IMG_\\'+str(num)+\\'.jpg\\')\\n    mat = scio.loadmat(\\'./ShanghaiTech/part_A/train_data/ground-truth/GT_IMG_\\'+str(num)+\\'.mat\\')\\n    k = np.zeros((img.shape[0],img.shape[1]))\\n    gt = mat[\"image_info\"][0][0][0][0][0]\\n    for i in range(0,len(gt)):\\n        if int(gt[i][1])<img.shape[0] and int(gt[i][0])<img.shape[1]:\\n            k[int(gt[i][1]),int(gt[i][0])] = 1\\n    print(\"sum de k = \", np.sum(k))\\n    dens = gaussian_filter_density(k)\\n    np.save(\"./ShanghaiTech/part_A/train_data/GT_density_map/GT_density_IMG_\" + str(num), dens)'"
      ]
     },
     "execution_count": 3,
     "metadata": {},
     "output_type": "execute_result"
    }
   ],
   "source": [
    "\"\"\"for num in range(50,150):\n",
    "    img = plt.imread('./ShanghaiTech/part_A/train_data/images/IMG_'+str(num)+'.jpg')\n",
    "    mat = scio.loadmat('./ShanghaiTech/part_A/train_data/ground-truth/GT_IMG_'+str(num)+'.mat')\n",
    "    k = np.zeros((img.shape[0],img.shape[1]))\n",
    "    gt = mat[\"image_info\"][0][0][0][0][0]\n",
    "    for i in range(0,len(gt)):\n",
    "        if int(gt[i][1])<img.shape[0] and int(gt[i][0])<img.shape[1]:\n",
    "            k[int(gt[i][1]),int(gt[i][0])] = 1\n",
    "    print(\"sum de k = \", np.sum(k))\n",
    "    dens = gaussian_filter_density(k)\n",
    "    np.save(\"./ShanghaiTech/part_A/train_data/GT_density_map/GT_density_IMG_\" + str(num), dens)\"\"\""
   ]
  },
  {
   "cell_type": "code",
   "execution_count": 4,
   "metadata": {},
   "outputs": [
    {
     "data": {
      "text/plain": [
       "'counts = np.zeros(300)\\nfor num in range(1,300):\\n    dens_map = np.load(\"ShanghaiTech/part_A/train_data/GT_density_map/GT_density_IMG_%s.npy\"%str(num))\\n    counts[num-1] = np.sum(dens_map)\\nnp.save(\"./ShanghaiTech/part_A/train_data/count_train_part_A\", counts)'"
      ]
     },
     "execution_count": 4,
     "metadata": {},
     "output_type": "execute_result"
    }
   ],
   "source": [
    "#Counts total numvber of persons in a density map\n",
    "\"\"\"counts = np.zeros(300)\n",
    "for num in range(1,300):\n",
    "    dens_map = np.load(\"ShanghaiTech/part_A/train_data/GT_density_map/GT_density_IMG_%s.npy\"%str(num))\n",
    "    counts[num-1] = np.sum(dens_map)\n",
    "np.save(\"./ShanghaiTech/part_A/train_data/count_train_part_A\", counts)\"\"\"  "
   ]
  },
  {
   "cell_type": "code",
   "execution_count": 79,
   "metadata": {},
   "outputs": [
    {
     "name": "stdout",
     "output_type": "stream",
     "text": [
      "25\n",
      "50\n",
      "75\n"
     ]
    },
    {
     "ename": "KeyboardInterrupt",
     "evalue": "",
     "output_type": "error",
     "traceback": [
      "\u001b[0;31m---------------------------------------------------------------------------\u001b[0m",
      "\u001b[0;31mKeyboardInterrupt\u001b[0m                         Traceback (most recent call last)",
      "\u001b[0;32m<ipython-input-79-4b67b06921be>\u001b[0m in \u001b[0;36m<module>\u001b[0;34m\u001b[0m\n\u001b[1;32m     37\u001b[0m                         ,cropped_img[i])\n\u001b[1;32m     38\u001b[0m             np.save(cropped_densities_path+\"GT_density_cropped_IMG_\" \n\u001b[0;32m---> 39\u001b[0;31m                     + str(num)+\"_\"+str(i), cropped_map[i])\n\u001b[0m\u001b[1;32m     40\u001b[0m             \u001b[0mcounts\u001b[0m\u001b[0;34m[\u001b[0m\u001b[0mi\u001b[0m\u001b[0;34m+\u001b[0m\u001b[0mnum\u001b[0m\u001b[0;34m*\u001b[0m\u001b[0;34m(\u001b[0m\u001b[0;36m9\u001b[0m\u001b[0;34m-\u001b[0m\u001b[0;36m1\u001b[0m\u001b[0;34m)\u001b[0m\u001b[0;34m]\u001b[0m \u001b[0;34m=\u001b[0m \u001b[0mnp\u001b[0m\u001b[0;34m.\u001b[0m\u001b[0msum\u001b[0m\u001b[0;34m(\u001b[0m\u001b[0mcropped_map\u001b[0m\u001b[0;34m[\u001b[0m\u001b[0mi\u001b[0m\u001b[0;34m]\u001b[0m\u001b[0;34m)\u001b[0m\u001b[0;34m\u001b[0m\u001b[0;34m\u001b[0m\u001b[0m\n\u001b[1;32m     41\u001b[0m \u001b[0mcounts\u001b[0m\u001b[0;34m=\u001b[0m\u001b[0mnp\u001b[0m\u001b[0;34m.\u001b[0m\u001b[0masarray\u001b[0m\u001b[0;34m(\u001b[0m\u001b[0mcounts\u001b[0m\u001b[0;34m)\u001b[0m\u001b[0;34m\u001b[0m\u001b[0;34m\u001b[0m\u001b[0m\n",
      "\u001b[0;32m~/anaconda2/lib/python3.6/site-packages/numpy/lib/npyio.py\u001b[0m in \u001b[0;36msave\u001b[0;34m(file, arr, allow_pickle, fix_imports)\u001b[0m\n\u001b[1;32m    527\u001b[0m         \u001b[0marr\u001b[0m \u001b[0;34m=\u001b[0m \u001b[0mnp\u001b[0m\u001b[0;34m.\u001b[0m\u001b[0masanyarray\u001b[0m\u001b[0;34m(\u001b[0m\u001b[0marr\u001b[0m\u001b[0;34m)\u001b[0m\u001b[0;34m\u001b[0m\u001b[0;34m\u001b[0m\u001b[0m\n\u001b[1;32m    528\u001b[0m         format.write_array(fid, arr, allow_pickle=allow_pickle,\n\u001b[0;32m--> 529\u001b[0;31m                            pickle_kwargs=pickle_kwargs)\n\u001b[0m\u001b[1;32m    530\u001b[0m     \u001b[0;32mfinally\u001b[0m\u001b[0;34m:\u001b[0m\u001b[0;34m\u001b[0m\u001b[0;34m\u001b[0m\u001b[0m\n\u001b[1;32m    531\u001b[0m         \u001b[0;32mif\u001b[0m \u001b[0mown_fid\u001b[0m\u001b[0;34m:\u001b[0m\u001b[0;34m\u001b[0m\u001b[0;34m\u001b[0m\u001b[0m\n",
      "\u001b[0;32m~/anaconda2/lib/python3.6/site-packages/numpy/lib/format.py\u001b[0m in \u001b[0;36mwrite_array\u001b[0;34m(fp, array, version, allow_pickle, pickle_kwargs)\u001b[0m\n\u001b[1;32m    638\u001b[0m     \u001b[0;32melse\u001b[0m\u001b[0;34m:\u001b[0m\u001b[0;34m\u001b[0m\u001b[0;34m\u001b[0m\u001b[0m\n\u001b[1;32m    639\u001b[0m         \u001b[0;32mif\u001b[0m \u001b[0misfileobj\u001b[0m\u001b[0;34m(\u001b[0m\u001b[0mfp\u001b[0m\u001b[0;34m)\u001b[0m\u001b[0;34m:\u001b[0m\u001b[0;34m\u001b[0m\u001b[0;34m\u001b[0m\u001b[0m\n\u001b[0;32m--> 640\u001b[0;31m             \u001b[0marray\u001b[0m\u001b[0;34m.\u001b[0m\u001b[0mtofile\u001b[0m\u001b[0;34m(\u001b[0m\u001b[0mfp\u001b[0m\u001b[0;34m)\u001b[0m\u001b[0;34m\u001b[0m\u001b[0;34m\u001b[0m\u001b[0m\n\u001b[0m\u001b[1;32m    641\u001b[0m         \u001b[0;32melse\u001b[0m\u001b[0;34m:\u001b[0m\u001b[0;34m\u001b[0m\u001b[0;34m\u001b[0m\u001b[0m\n\u001b[1;32m    642\u001b[0m             for chunk in numpy.nditer(\n",
      "\u001b[0;31mKeyboardInterrupt\u001b[0m: "
     ]
    }
   ],
   "source": [
    "# SCRIPT PART FOR CROPPING IMAGES. Change paths accordingly.\n",
    "images_path='./ShanghaiTech/part_A/train_data/images/'\n",
    "densities_path=\"./ShanghaiTech/part_A/train_data/GT_density_map/\"\n",
    "#next are final paths to be used for getting training set\n",
    "cropped_images_path= \"./ShanghaiTech/part_A/train_data/images_cropped/\" \n",
    "cropped_densities_path= \"./ShanghaiTech/part_A/train_data/GT_density_map_cropped/\"\n",
    "counts=[0]*9*300\n",
    "for num in range(1,301):\n",
    "    if num%25==0 :\n",
    "        print(num)\n",
    "    img = cv2.imread(images_path+'IMG_'+str(num)+'.jpg',flags=cv2.IMREAD_COLOR)\n",
    "    #img=cv2.cvtColor(img, cv2.COLOR_BGR2RGB)\n",
    "    dens_map = np.load(densities_path+\"GT_density_IMG_%s.npy\"%str(num))\n",
    "    h,w=img.shape[0],img.shape[1]\n",
    "    #check ifi image has both dimensions greater than 224 otherwise skip\n",
    "    if  w >= 224 and h >= 224:\n",
    "        cropped_img=np.zeros((9,224,224,3)) \n",
    "        cropped_map=np.zeros((9,224,224)) # 9 density maps \n",
    "        if len(img.shape) < 3: # some images are in grey, ie only one canal\n",
    "            cropped_img=np.zeros((9,224,224))\n",
    "        \n",
    "        # We make 4 crops at the 4 corners of image as well as the corresponding density map\n",
    "        cropped_img[0], cropped_img[1]= img[:224,:224],img[:224,-224:]\n",
    "        cropped_img[2],cropped_img[3]= img[-224:,:224], img[-224:,-224:]\n",
    "        cropped_map[0],cropped_map[1]= dens_map[:224,:224], dens_map[:224,-224:]\n",
    "        cropped_map[2],cropped_map[3]= dens_map[-224:,:224], dens_map[-224:,-224:]\n",
    "\n",
    "        #We make five random crops of size 224x224 for both image and density map\n",
    "\n",
    "        x=np.random.randint(0,w-224,5)\n",
    "        y=np.random.randint(0,h-224,5)\n",
    "        for i in range(4,9):\n",
    "            cropped_img[i] = img[y[i-4]:y[i-4]+224,x[i-4]:x[i-4]+224]\n",
    "            cropped_map[i] = dens_map[y[i-4]:y[i-4]+224,x[i-4]:x[i-4]+224]\n",
    "        for i in range(9):\n",
    "            cv2.imwrite(cropped_images_path+\"cropped_IMG_\"+ str(num)+\"_\"+str(i)+\".jpg\"\n",
    "                        ,cropped_img[i])\n",
    "            np.save(cropped_densities_path+\"GT_density_cropped_IMG_\" \n",
    "                    + str(num)+\"_\"+str(i), cropped_map[i])\n",
    "            counts[i+num*(9-1)] = np.sum(cropped_map[i])\n",
    "counts=np.asarray(counts)\n",
    "np.save(\"./ShanghaiTech/part_A/train_data/count_train_part_A\", counts)"
   ]
  },
  {
   "cell_type": "code",
   "execution_count": null,
   "metadata": {},
   "outputs": [],
   "source": []
  }
 ],
 "metadata": {
  "kernelspec": {
   "display_name": "Python 3",
   "language": "python",
   "name": "python3"
  },
  "language_info": {
   "codemirror_mode": {
    "name": "ipython",
    "version": 3
   },
   "file_extension": ".py",
   "mimetype": "text/x-python",
   "name": "python",
   "nbconvert_exporter": "python",
   "pygments_lexer": "ipython3",
   "version": "3.6.8"
  }
 },
 "nbformat": 4,
 "nbformat_minor": 2
}
